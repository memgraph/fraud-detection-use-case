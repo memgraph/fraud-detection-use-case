{
 "cells": [
  {
   "cell_type": "markdown",
   "id": "d3002ab4",
   "metadata": {},
   "source": [
    "# Fraud detection demo\n",
    "\n",
    "The goal of this demo is to showcase how Memgraph can be used to load table data from different sources like parquet files stored in local or external file systems. This is a step-by-step showcase of Memgraph ecosystem. The demo is split into different topics:\n",
    "\n",
    "##### 1.  Storing row-based format into Memgraph\n",
    "Such row-based formats are SQL tables, Parquet data frames, as well as CSV, ORC and Feather files. Therefore, these row-based records can be transformed into graph via suitable transformations to nodes and relationships. To accomplish that, GQLAlchemy offers a solution in a form of defining a configuration for loading each table.\n",
    "\n",
    "##### 2.  Exploring the dataset by using GQLAchemy querying\n",
    "With simple queries, information can be gathered by using GQLAlchemy. Fetching these elements enables user to get more insight into different parts of dataset and to create queries which offer a human way of interacting with frauds. For example, gathering all fraud individuals that share an address will lead towards new suspects.\n",
    "\n",
    "##### 3.  Extracting graph features from the dataset\n",
    "Graph algorithms are suitable for use cases such as fraud detection because of the amplification of relationships within the dataset entities. Community detection, PageRank and Node2Vec are just a few of those that we will use to showcase abilities of Memgraph MAGE to extract useful information from graph data. \n",
    "\n",
    "##### 4.  Preparing and running the prediction model based on extracted features\n",
    "Furthermore in the pipeline, once we have extracted features, we can simply run a prediction model on top of them. This enables to adapt to changes and once new data is created, use the model to predict on history information.\n"
   ]
  },
  {
   "cell_type": "markdown",
   "id": "8efba43e",
   "metadata": {},
   "source": [
    "## Prerequisites\n",
    "\n",
    "For this tutorial, you will need to install:\n",
    "\n",
    "- [Jupyter](https://jupyter.org/install): Jupyter is needed if you want to run this tutorial as a notebook.\n",
    "- [Docker](https://docs.docker.com/get-docker/): Docker is used because Memgraph is a native Linux application and cannot be installed on Windows and macOS.\n",
    "- [GQLAlchemy](https://pypi.org/project/gqlalchemy/): A Python OGM (Object Graph Mapper) that connects to Memgraph\n",
    "- other Python packages from `pyproject.toml`. You can install them with `poetry install`."
   ]
  },
  {
   "cell_type": "markdown",
   "id": "46356096",
   "metadata": {},
   "source": [
    "#### Installation using Docker\n",
    "\n",
    "After you install Docker, you can set up Memgraph by running:\n",
    "\n",
    "```\n",
    "docker run -it -p 7687:7687 -p 3000:3000 memgraph/memgraph-platform\n",
    "```\n",
    "\n",
    "This command will start the download and after it finishes, run the Memgraph container."
   ]
  },
  {
   "cell_type": "markdown",
   "id": "932f236e",
   "metadata": {},
   "source": [
    "#### Connect to Memgraph with GQLAlchemy"
   ]
  },
  {
   "cell_type": "code",
   "execution_count": 7,
   "id": "928dc543",
   "metadata": {},
   "outputs": [],
   "source": [
    "# Import the library needed for graph data handling\n",
    "# GQLAlchemy is the Object Graph Mapper (OGM) - a link between graph database objects and Python objects.\n",
    "import gqlalchemy\n",
    "\n",
    "# Import key features from GQLAlchemy\n",
    "from gqlalchemy import Memgraph, QueryBuilder\n",
    "from gqlalchemy.loaders import ParquetLocalFileSystemImporter\n",
    "\n",
    "# Import environment config and file handlers\n",
    "from dotenv import load_dotenv\n",
    "from pathlib import Path\n",
    "import os\n",
    "import yaml"
   ]
  },
  {
   "cell_type": "code",
   "execution_count": 8,
   "id": "1683742c",
   "metadata": {},
   "outputs": [
    {
     "data": {
      "text/plain": [
       "True"
      ]
     },
     "execution_count": 8,
     "metadata": {},
     "output_type": "execute_result"
    }
   ],
   "source": [
    "# Load configuration from environment file\n",
    "load_dotenv(\".env\")"
   ]
  },
  {
   "cell_type": "code",
   "execution_count": 9,
   "id": "a19c382f",
   "metadata": {},
   "outputs": [],
   "source": [
    "# Define a graph DB connector\n",
    "mg_host = os.getenv(\"MG_HOST\", \"localhost\")\n",
    "mg_port = int(os.getenv(\"MG_PORT\", \"7687\"))\n",
    "db = Memgraph(mg_host, mg_port)"
   ]
  },
  {
   "cell_type": "markdown",
   "id": "faadc145",
   "metadata": {},
   "source": [
    " ### 1. Storing row-based format into Memgraph"
   ]
  },
  {
   "cell_type": "markdown",
   "id": "4c113044",
   "metadata": {},
   "source": [
    "To use the mock dataset run the `data_generator` script. Parameters are `<TOTAL_FAMILIES>` and `<TOTAL_INCIDENTS>`."
   ]
  },
  {
   "cell_type": "code",
   "execution_count": 4,
   "id": "27ad15dd",
   "metadata": {},
   "outputs": [
    {
     "name": "stdout",
     "output_type": "stream",
     "text": [
      "Data generation started...\n",
      "Data stored in dataset/data !\n"
     ]
    }
   ],
   "source": [
    "!python dataset/data_generator.py 1000 300"
   ]
  },
  {
   "cell_type": "markdown",
   "id": "fdf14faf",
   "metadata": {},
   "source": [
    "Now, define a mapping between Tables and Nodes/Relationships - nodes are graph entities that are\n",
    "connected with relationships. We can define them on table-like format and insert them from any\n",
    "row-based storage such are SQL table, parquet dataframes, CSV files, etc. The only thing neded is \n",
    "defining mapping between these entities."
   ]
  },
  {
   "cell_type": "code",
   "execution_count": 10,
   "id": "f5cc7c97",
   "metadata": {},
   "outputs": [
    {
     "name": "stdout",
     "output_type": "stream",
     "text": [
      "Created index for ADDRESS on add_id\n",
      "Created index for INDIVIDUAL on ind_id\n",
      "Created index for VEHICLE on veh_id\n",
      "Created index for POLICY on pol_id\n",
      "Created index for CLAIM on clm_id\n",
      "Created index for INCIDENT on inc_id\n",
      "Created index for CLAIM_PAYMENT on pay_id\n",
      "Created index for INJURY on inj_id\n",
      "Created trigger INDIVIDUAL__add_id__ADDRESS__add_id\n",
      "Created trigger ADDRESS__add_id__INDIVIDUAL__add_id\n",
      "Created trigger POLICY__insurer_id__INDIVIDUAL__ind_id\n",
      "Created trigger INDIVIDUAL__ind_id__POLICY__insurer_id\n",
      "Created trigger POLICY__insured_with_id__INDIVIDUAL__ind_id\n",
      "Created trigger INDIVIDUAL__ind_id__POLICY__insured_with_id\n",
      "Created trigger POLICY__veh_id__VEHICLE__veh_id\n",
      "Created trigger VEHICLE__veh_id__POLICY__veh_id\n",
      "Created trigger POLICY__add_id__ADDRESS__add_id\n",
      "Created trigger ADDRESS__add_id__POLICY__add_id\n",
      "Created trigger CLAIM__inc_id__INCIDENT__inc_id\n",
      "Created trigger INCIDENT__inc_id__CLAIM__inc_id\n",
      "Created trigger INCIDENT__pol_id__POLICY__pol_id\n",
      "Created trigger POLICY__pol_id__INCIDENT__pol_id\n",
      "Created trigger INCIDENT__add_id__ADDRESS__add_id\n",
      "Created trigger ADDRESS__add_id__INCIDENT__add_id\n",
      "Created trigger CLAIM_PAYMENT__payer_id__INDIVIDUAL__ind_id\n",
      "Created trigger INDIVIDUAL__ind_id__CLAIM_PAYMENT__payer_id\n",
      "Created trigger CLAIM_PAYMENT__payee_id__INDIVIDUAL__ind_id\n",
      "Created trigger INDIVIDUAL__ind_id__CLAIM_PAYMENT__payee_id\n",
      "Created trigger CLAIM_PAYMENT__clm_id__CLAIM__clm_id\n",
      "Created trigger CLAIM__clm_id__CLAIM_PAYMENT__clm_id\n",
      "Created trigger INJURY__clm_id__CLAIM__clm_id\n",
      "Created trigger CLAIM__clm_id__INJURY__clm_id\n",
      "Created trigger INJURY__ind_id__INDIVIDUAL__ind_id\n",
      "Created trigger INDIVIDUAL__ind_id__INJURY__ind_id\n",
      "Loading data from table ./dataset/data//address.parquet...\n",
      "Data loaded.\n",
      "Loading data from table ./dataset/data//individuals.parquet...\n",
      "Data loaded.\n",
      "Loading data from table ./dataset/data//vehicle.parquet...\n",
      "Data loaded.\n",
      "Loading data from table ./dataset/data//policy.parquet...\n",
      "Data loaded.\n",
      "Loading data from table ./dataset/data//claim.parquet...\n",
      "Data loaded.\n",
      "Loading data from table ./dataset/data//incident.parquet...\n",
      "Data loaded.\n",
      "Loading data from table ./dataset/data//claim_payment.parquet...\n",
      "Data loaded.\n",
      "Loading data from table ./dataset/data//injury.parquet...\n",
      "Data loaded.\n",
      "Loading data from cross table ./dataset/data//incident_individual.parquet...\n",
      "Data loaded.\n"
     ]
    }
   ],
   "source": [
    "PATH_TO_CONFIG_YAML = \"./config.yml\"\n",
    "\n",
    "with Path(PATH_TO_CONFIG_YAML).open(\"r\") as f_:\n",
    "    data_configuration = yaml.safe_load(f_)\n",
    "\n",
    "translator = ParquetLocalFileSystemImporter(\n",
    "    path=\"./dataset/data/\",\n",
    "    data_configuration=data_configuration\n",
    ")\n",
    "\n",
    "# Ensure that Memgraph is in clean state once we start out loading\n",
    "translator.translate(drop_database_on_start=True)"
   ]
  },
  {
   "cell_type": "markdown",
   "id": "1cccd995",
   "metadata": {},
   "source": [
    "![](img/demo.png)"
   ]
  },
  {
   "cell_type": "markdown",
   "id": "d50c32c0",
   "metadata": {},
   "source": [
    "### 3. Exploring the dataset by using GQLAchemy querying"
   ]
  },
  {
   "cell_type": "markdown",
   "id": "0e1ccfec",
   "metadata": {},
   "source": [
    "Now, when we have everything settled, we are able to explore the data from Memgraph DB.\n",
    "Querying should be fairly simple, using the GQLAlchemy or openCypher query language.\n",
    "\n",
    "Here is the example of fetching policies from some individuals"
   ]
  },
  {
   "cell_type": "code",
   "execution_count": 11,
   "id": "b8362613",
   "metadata": {},
   "outputs": [
    {
     "name": "stdout",
     "output_type": "stream",
     "text": [
      "Katherine Richard is insured with POLICY: {valid_from: 2022-02-15, valid_to: 2022-09-05, policy_type: MEDICAL}\n",
      "Jorge Richard is insured with POLICY: {valid_from: 2022-08-24, valid_to: 2024-05-29, policy_type: MEDICAL}\n",
      "Deborah Hudson is insured with POLICY: {valid_from: 2022-05-30, valid_to: 2024-03-04, policy_type: COMPREHENSIVE}\n",
      "Deborah Hudson is insured with POLICY: {valid_from: 2022-03-24, valid_to: 2022-10-12, policy_type: LIABILITY}\n",
      "Brittany Hudson is insured with POLICY: {valid_from: 2021-02-19, valid_to: 2021-03-13, policy_type: LIABILITY}\n"
     ]
    },
    {
     "name": "stderr",
     "output_type": "stream",
     "text": [
      "/home/bruno/fraud-detection-use-case/.venv/lib/python3.9/site-packages/gqlalchemy/models.py:321: GQLAlchemySubclassNotFoundWarning: ({'INDIVIDUAL'}, <class 'gqlalchemy.models.Node'>)\n",
      "  warnings.warn(GQLAlchemySubclassNotFoundWarning(types, cls))\n",
      "/home/bruno/fraud-detection-use-case/.venv/lib/python3.9/site-packages/gqlalchemy/models.py:321: GQLAlchemySubclassNotFoundWarning: ({'POLICY'}, <class 'gqlalchemy.models.Node'>)\n",
      "  warnings.warn(GQLAlchemySubclassNotFoundWarning(types, cls))\n"
     ]
    }
   ],
   "source": [
    "query_builder = QueryBuilder(db)\n",
    "results = list(\n",
    "    query_builder.match() # Match different entities\n",
    "    .node(\"POLICY\", variable=\"policy\") # Match policies\n",
    "    .to(\"INSURED\") # With relationship INSURED\n",
    "    .node(\"INDIVIDUAL\", variable=\"insurer\") # To an individual\n",
    "    .return_() # Return all the variables\n",
    "    .limit(5) # Limit the output to 5 elements\n",
    "    .execute()\n",
    ")\n",
    "\n",
    "# Log the output for each of the resulting rows\n",
    "for result in results:\n",
    "    insurer = result[\"insurer\"]\n",
    "    policy = result[\"policy\"]\n",
    "    \n",
    "    print(f\"{insurer.first_name} {insurer.last_name} \"\n",
    "          f\"is insured with POLICY: \"\n",
    "          f\"{{valid_from: {policy.start_date}, valid_to: {policy.end_date}, policy_type: { policy.type}}}\")"
   ]
  },
  {
   "cell_type": "markdown",
   "id": "3ba9e18f",
   "metadata": {},
   "source": [
    "Let's say we are curious about getting the individual with largest number of policies\n",
    "This time, we will write a raw openCypher query for larger flexibility"
   ]
  },
  {
   "cell_type": "code",
   "execution_count": 12,
   "id": "c97dc5c6",
   "metadata": {},
   "outputs": [
    {
     "name": "stdout",
     "output_type": "stream",
     "text": [
      "Steven Holmes has 6 policies.\n",
      "Rachel Fisher has 5 policies.\n",
      "Bradley Gutierrez has 5 policies.\n",
      "Andrea Page has 4 policies.\n",
      "Ryan Smith has 4 policies.\n"
     ]
    }
   ],
   "source": [
    "\n",
    "results = db.execute_and_fetch(\"\"\"\n",
    "    MATCH (insurer:INDIVIDUAL)<-[:INSURED]-(policy:POLICY)\n",
    "    RETURN insurer, count(policy) AS num_policies\n",
    "    ORDER BY num_policies DESC\n",
    "    LIMIT 5;\n",
    "\"\"\")\n",
    "\n",
    "# Log the output for each of the resulting rows\n",
    "for result in results:\n",
    "    insurer = result[\"insurer\"]\n",
    "    num_policies = result[\"num_policies\"]\n",
    "    \n",
    "    print(f\"{insurer.first_name} {insurer.last_name} has {num_policies} policies.\")"
   ]
  },
  {
   "cell_type": "markdown",
   "id": "36db0efc",
   "metadata": {},
   "source": [
    "Moving into the interest area of potential frauds,\n",
    "here we list some fraudulent claims and their associates"
   ]
  },
  {
   "cell_type": "code",
   "execution_count": 14,
   "id": "7fa50e40",
   "metadata": {},
   "outputs": [
    {
     "name": "stdout",
     "output_type": "stream",
     "text": [
      "Sarah Rodriguez was involved in claim e0518585 which was marked as fraud.\n",
      "Robert Reid was involved in claim 898087a5 which was marked as fraud.\n",
      "William Hart was involved in claim f3f3a006 which was marked as fraud.\n",
      "Bonnie Fisher was involved in claim ea4551c4 which was marked as fraud.\n",
      "Rachel Munoz was involved in claim 17669df6 which was marked as fraud.\n"
     ]
    }
   ],
   "source": [
    "results = db.execute_and_fetch(\"\"\"\n",
    "    MATCH (individual:INDIVIDUAL)<-[:INSURED]-(policy:POLICY)<-[]-(incident:INCIDENT)<-[]-(fraud:CLAIM {fraud: True})\n",
    "    RETURN individual, fraud\n",
    "    LIMIT 5;\n",
    "\"\"\")\n",
    "\n",
    "# Log the output for each of the resulting rows\n",
    "for result in results:\n",
    "    insurer = result[\"individual\"]\n",
    "    fraudulent_claim = result[\"fraud\"]\n",
    "    \n",
    "    print(f\"{insurer.first_name} {insurer.last_name} was involved in claim {fraudulent_claim.clm_id} which was marked as fraud.\")"
   ]
  },
  {
   "cell_type": "markdown",
   "id": "4b804df2",
   "metadata": {},
   "source": [
    "After obtaining frauds in history, we would like to extract features for each of them, and encorporate\n",
    "them to detect the new fraud. \n",
    "\n",
    "First, we need to simulate out feature store. For these purposes, we'll use Pandas, frequent DataFrame format\n",
    "Let's define some features"
   ]
  },
  {
   "cell_type": "code",
   "execution_count": 19,
   "id": "05d68a25",
   "metadata": {},
   "outputs": [],
   "source": [
    "import pandas as pd\n",
    "class FeatureStore:\n",
    "    IND_COUNT = \"ind_count\"\n",
    "    AMT_PAID = \"amount_paid\"\n",
    "    POL_EXPIRED = \"policy_expired\"\n",
    "    POL_PREMIUM = \"policy_premium\"\n",
    "    INFLUENCE = \"influence\"\n",
    "    NUM_FRAUDS_NEIGHBORHOOD = \"num_frauds_neighborhood\"\n",
    "    NUM_FRAUDS_COMMUNITY = \"num_frauds_community\"\n",
    "    EMBEDDING = \"embedding\"\n",
    "    FRAUD = 'fraud'\n",
    "    \n",
    "    \n",
    "FEATURE_NAMES = [\n",
    "    FeatureStore.IND_COUNT, \n",
    "    FeatureStore.AMT_PAID, \n",
    "    FeatureStore.POL_EXPIRED, \n",
    "    FeatureStore.POL_PREMIUM, \n",
    "    FeatureStore.INFLUENCE, \n",
    "    FeatureStore.NUM_FRAUDS_NEIGHBORHOOD, \n",
    "    FeatureStore.NUM_FRAUDS_COMMUNITY, \n",
    "    FeatureStore.EMBEDDING, \n",
    "    FeatureStore.FRAUD, \n",
    "]"
   ]
  },
  {
   "cell_type": "markdown",
   "id": "a2361b73",
   "metadata": {},
   "source": [
    "First, define simple feature types"
   ]
  },
  {
   "cell_type": "code",
   "execution_count": 20,
   "id": "aaf53c1b",
   "metadata": {},
   "outputs": [],
   "source": [
    "from datetime import datetime, date\n",
    "\n",
    "# Count of individuals related to the incident/claim could be\n",
    "# useful information when combined with other features.\n",
    "def get_individual_count(claim_id: str) -> int:\n",
    "    return next(db.execute_and_fetch(f\"\"\"\n",
    "        MATCH (claim:CLAIM {{clm_id: '{claim_id}'}})-[]->(incident:INCIDENT)-[]->(individual:INDIVIDUAL)\n",
    "        RETURN COUNT(individual) AS {FeatureStore.IND_COUNT}\n",
    "    \"\"\"))[FeatureStore.IND_COUNT]\n",
    "\n",
    "\n",
    "# Price paid for the claim can be a fine indicator of whether there\n",
    "# is a suspicious activity going on.\n",
    "def get_amount_paid(claim_id: str) -> float:\n",
    "    amt_paid =  next(db.execute_and_fetch(f\"\"\"\n",
    "        MATCH (claim:CLAIM {{clm_id: '{claim_id}'}})<-[]-(payment:CLAIM_PAYMENT)\n",
    "        RETURN SUM(payment.amount) AS {FeatureStore.AMT_PAID}\n",
    "    \"\"\"))[FeatureStore.AMT_PAID]\n",
    "    \n",
    "    return amt_paid if amt_paid else 0\n",
    "\n",
    "\n",
    "# Filing a claim on expired policy might be a bad sign\n",
    "def get_policy_expired(claim_id: str) -> bool:\n",
    "    today = str(datetime.now().date())\n",
    "    return next(db.execute_and_fetch(f\"\"\"\n",
    "        MATCH (claim:CLAIM {{clm_id: '{claim_id}'}})-[]->(:INCIDENT)-[]->(policy:POLICY)\n",
    "        RETURN  policy.end_date < date('{today}') AS {FeatureStore.POL_EXPIRED}\n",
    "    \"\"\"))[FeatureStore.POL_EXPIRED]\n",
    "\n",
    "\n",
    "# Depending on premium level, the amount covered can vary, suspicion too.\n",
    "def get_policy_premium(claim_id: str) -> bool:\n",
    "    premium = next(db.execute_and_fetch(f\"\"\"\n",
    "        MATCH (claim:CLAIM {{clm_id: '{claim_id}'}})-[]->(:INCIDENT)-[]->(policy:POLICY)\n",
    "        RETURN  policy.premium AS {FeatureStore.POL_PREMIUM} \n",
    "    \"\"\"))[FeatureStore.POL_PREMIUM]\n",
    "    return premium if premium else \"U\""
   ]
  },
  {
   "cell_type": "markdown",
   "id": "b4fcabbb",
   "metadata": {},
   "source": [
    "Choose one claim id and set it as a variable to be used in these examples:"
   ]
  },
  {
   "cell_type": "code",
   "execution_count": 21,
   "id": "c29bf50e",
   "metadata": {},
   "outputs": [],
   "source": [
    "test_policy_id = \"e0518585\""
   ]
  },
  {
   "cell_type": "code",
   "execution_count": 22,
   "id": "19fec625",
   "metadata": {},
   "outputs": [
    {
     "name": "stdout",
     "output_type": "stream",
     "text": [
      "Number of individuals involved:  3\n",
      "Total amount paid:  7175.7\n",
      "Is policy expired:  False\n",
      "Policy premium type:  B\n"
     ]
    }
   ],
   "source": [
    "print(\"Number of individuals involved: \", get_individual_count(test_policy_id))\n",
    "print(\"Total amount paid: \", get_amount_paid(test_policy_id))\n",
    "print(\"Is policy expired: \", get_policy_expired(test_policy_id))\n",
    "print(\"Policy premium type: \", get_policy_premium(test_policy_id))"
   ]
  },
  {
   "cell_type": "markdown",
   "id": "867f46af",
   "metadata": {},
   "source": [
    "### 4.  Extracting graph features from the dataset"
   ]
  },
  {
   "cell_type": "markdown",
   "id": "22886506",
   "metadata": {},
   "source": [
    "It's time to apply some graph analytics on our fraud model\n",
    "\n",
    "After splitting the graph entities into communities, communities with individuals\n",
    "related to previous frauds will have larger probability of being fraudulent"
   ]
  },
  {
   "cell_type": "code",
   "execution_count": 23,
   "id": "9fa28581",
   "metadata": {},
   "outputs": [],
   "source": [
    "def run_community_detection() -> None:\n",
    "    db.execute(f\"\"\"\n",
    "        CALL community_detection_online.set() YIELD node, community_id\n",
    "        SET node.community = community_id;\n",
    "    \"\"\")\n",
    "\n",
    "# Measure of centrality can help \n",
    "def run_pagerank() -> None:\n",
    "    db.execute(f\"\"\"\n",
    "        CALL pagerank_online.set(100, 0.2) YIELD node, rank\n",
    "        SET node.influence = rank;\n",
    "    \"\"\")\n",
    "\n",
    "\n",
    "# These are highly artificial vectors of numbers, but they encode a graph structure.\n",
    "# Malicious groups act alike, therefore their structural encodings will be the same.\n",
    "def run_node_embedding() -> None:\n",
    "    db.execute(f\"\"\"\n",
    "        CALL node2vec.set_embeddings() YIELD *;\n",
    "    \"\"\")\n",
    "\n",
    "run_community_detection()\n",
    "run_pagerank()\n",
    "run_node_embedding()"
   ]
  },
  {
   "cell_type": "code",
   "execution_count": 24,
   "id": "0e28e97d",
   "metadata": {},
   "outputs": [
    {
     "name": "stdout",
     "output_type": "stream",
     "text": [
      "Number of frauds in community:  1\n",
      "Number of close/related frauds:  0\n",
      "Claim influence:  0.00010634506386452073\n",
      "\n",
      "Claim vector embedding [0.23990413546562195, 0.20033474266529083, 0.18521267175674438, -0.10653727501630783, -0.05030252784490585, -0.11978217959403992, -0.1387440413236618, 0.12799763679504395, -0.08096462488174438, 0.014063484035432339, -0.12589888274669647, -0.06788700073957443, 0.1342281997203827, 0.02110903337597847, -0.0336422473192215, -0.02298773266375065, -0.10523083060979843, -0.15709543228149414, -0.08151639997959137, -0.008368811570107937, 0.07586856186389923, 0.047013115137815475, 0.047846484929323196, 0.010702426545321941, 0.03452439606189728, 0.09195899218320847, 0.11196646094322205, 0.06637044996023178, -0.014480795711278915, -0.22767755389213562, 0.006124441046267748, 0.06826041638851166, -0.0768907368183136, -0.20370228588581085, 0.12314143776893616, 0.0021035221870988607, 0.23879021406173706, -0.12248553335666656, -0.017064962536096573, -0.0876607596874237, -0.04391184821724892, 0.04158405959606171, -0.0718306377530098, 0.08266476541757584, -0.21184521913528442, 0.005401585251092911, -0.16158786416053772, 0.08041224628686905, -0.1450154334306717, 0.05492224916815758, -0.06193144619464874, -0.2117798775434494, -0.12484929710626602, -0.09859778732061386, -0.11941497772932053, -0.030991144478321075, 0.08229074627161026, 0.09308673441410065, -0.07687759399414062, 0.07598848640918732, 0.15597732365131378, 0.19018889963626862, -0.24385297298431396, 0.1840544492006302, 0.2500946521759033, 0.014448096975684166, 0.008536656387150288, -0.12305337935686111, 0.016404127702116966, 0.1423501819372177, -0.02151413820683956, -0.07294856756925583, 0.2053920477628708, -0.054477259516716, 0.034598659723997116, -0.04344034940004349, -0.08239518105983734, 0.040173329412937164, 0.2048622965812683, 0.1586863398551941, -0.10132213681936264, -0.13112716376781464, 0.03523638844490051, -0.10009004175662994, 0.14787554740905762, -0.08222003281116486, -0.065807044506073, 0.19183437526226044, 0.03266700357198715, 0.23126502335071564, -0.11148255318403244, -0.19897545874118805, 0.14834275841712952, 0.06690510362386703, 0.04991213604807854, -0.06464733928442001, 0.10185258090496063, -0.06184374913573265, -0.11259055137634277, 0.143229141831398]\n"
     ]
    }
   ],
   "source": [
    "def get_num_frauds_community(claim_id: str) -> float:\n",
    "    return next(db.execute_and_fetch(f\"\"\"\n",
    "        MATCH (claim:CLAIM {{clm_id: '{claim_id}'}}), (fraud:CLAIM {{fraud: True}})\n",
    "        WHERE claim.community = fraud.community\n",
    "        RETURN COUNT(fraud) AS {FeatureStore.NUM_FRAUDS_COMMUNITY}\n",
    "    \"\"\"))[FeatureStore.NUM_FRAUDS_COMMUNITY]\n",
    "\n",
    "def get_num_frauds_neighborhood(claim_id: str) -> float:\n",
    "    return next(db.execute_and_fetch(f\"\"\"\n",
    "        MATCH (claim:CLAIM {{clm_id: '{claim_id}'}})-[*bfs ..4]-(fraud:CLAIM {{fraud: True}})\n",
    "        RETURN COUNT(fraud) AS {FeatureStore.NUM_FRAUDS_NEIGHBORHOOD}\n",
    "    \"\"\"))[FeatureStore.NUM_FRAUDS_NEIGHBORHOOD]\n",
    "\n",
    "def get_influence(claim_id: str) -> float:\n",
    "    return next(db.execute_and_fetch(f\"\"\"\n",
    "        MATCH (claim:CLAIM {{clm_id: '{claim_id}'}})\n",
    "        RETURN claim.influence AS {FeatureStore.INFLUENCE}\n",
    "    \"\"\"))[FeatureStore.INFLUENCE]\n",
    "\n",
    "def get_embedding(claim_id: str) -> float:\n",
    "    return next(db.execute_and_fetch(f\"\"\"\n",
    "        MATCH (claim:CLAIM {{clm_id: '{claim_id}'}})\n",
    "        RETURN claim.embedding AS {FeatureStore.EMBEDDING}\n",
    "    \"\"\"))[FeatureStore.EMBEDDING]\n",
    "\n",
    "print(\"Number of frauds in community: \", get_num_frauds_community(test_policy_id))\n",
    "print(\"Number of close/related frauds: \", get_num_frauds_neighborhood(test_policy_id))\n",
    "print(\"Claim influence: \", get_influence(test_policy_id))\n",
    "print()\n",
    "print(\"Claim vector embedding\", get_embedding(test_policy_id))"
   ]
  },
  {
   "cell_type": "markdown",
   "id": "0bd52a22",
   "metadata": {},
   "source": [
    "Generate all features for each possible claim"
   ]
  },
  {
   "cell_type": "code",
   "execution_count": 25,
   "id": "ffeab41a",
   "metadata": {},
   "outputs": [
    {
     "name": "stderr",
     "output_type": "stream",
     "text": [
      "/home/bruno/fraud-detection-use-case/.venv/lib/python3.9/site-packages/gqlalchemy/models.py:321: GQLAlchemySubclassNotFoundWarning: ({'CLAIM'}, <class 'gqlalchemy.models.Node'>)\n",
      "  warnings.warn(GQLAlchemySubclassNotFoundWarning(types, cls))\n"
     ]
    }
   ],
   "source": [
    "import pandas as pd\n",
    "\n",
    "def get_claims():\n",
    "    return db.execute_and_fetch(f\"\"\"\n",
    "        MATCH (claim:CLAIM)\n",
    "        RETURN claim\n",
    "    \"\"\")\n",
    "\n",
    "CLAIM_ID = 'claim_id'\n",
    "feature_store = pd.DataFrame(columns = FEATURE_NAMES + [CLAIM_ID])\n",
    "\n",
    "\n",
    "# Store the claims into feature store - a dataframe\n",
    "for i, result in enumerate(get_claims()):\n",
    "    claim = result['claim']\n",
    "    claim_features = {\n",
    "        FeatureStore.IND_COUNT: get_individual_count(claim.clm_id),\n",
    "        FeatureStore.AMT_PAID: get_amount_paid(claim.clm_id),\n",
    "        FeatureStore.POL_EXPIRED: get_policy_expired(claim.clm_id),\n",
    "        FeatureStore.POL_PREMIUM: get_policy_premium(claim.clm_id),\n",
    "        FeatureStore.NUM_FRAUDS_COMMUNITY: get_num_frauds_community(claim.clm_id),\n",
    "        FeatureStore.NUM_FRAUDS_NEIGHBORHOOD: get_num_frauds_neighborhood(claim.clm_id),\n",
    "        FeatureStore.INFLUENCE: get_influence(claim.clm_id),\n",
    "        FeatureStore.EMBEDDING: [get_embedding(claim.clm_id)],\n",
    "        FeatureStore.FRAUD: claim.fraud,\n",
    "        CLAIM_ID: claim.clm_id\n",
    "    }\n",
    "    feature_store = pd.concat([feature_store, pd.DataFrame(claim_features)], ignore_index=True)\n",
    "\n",
    "feature_store = feature_store.set_index(CLAIM_ID)"
   ]
  },
  {
   "cell_type": "markdown",
   "id": "1ef3619e",
   "metadata": {},
   "source": [
    "### 5.  Preparing and running the prediction model based on extracted features"
   ]
  },
  {
   "cell_type": "code",
   "execution_count": 26,
   "id": "21d9fb60",
   "metadata": {},
   "outputs": [
    {
     "data": {
      "text/plain": [
       "<AxesSubplot:xlabel='Predicted', ylabel='Actual'>"
      ]
     },
     "execution_count": 26,
     "metadata": {},
     "output_type": "execute_result"
    },
    {
     "data": {
      "image/png": "[encoded data removed]",
      "text/plain": [
       "<Figure size 640x480 with 2 Axes>"
      ]
     },
     "metadata": {},
     "output_type": "display_data"
    }
   ],
   "source": [
    "import pandas as pd\n",
    "from sklearn.model_selection import train_test_split\n",
    "from sklearn.linear_model import LogisticRegression\n",
    "from sklearn.utils import resample\n",
    "from sklearn import metrics\n",
    "import seaborn as sn\n",
    "import matplotlib.pyplot as plt\n",
    "\n",
    "\n",
    "# Extracting the features for training phase out of feature store\n",
    "X = feature_store[[\n",
    "    FeatureStore.IND_COUNT, \n",
    "    FeatureStore.AMT_PAID, \n",
    "    FeatureStore.NUM_FRAUDS_COMMUNITY,\n",
    "    FeatureStore.POL_PREMIUM,\n",
    "    FeatureStore.NUM_FRAUDS_NEIGHBORHOOD,\n",
    "    FeatureStore.INFLUENCE,\n",
    "]]\n",
    "# Selecting the feature type. \n",
    "X = X.astype({\n",
    "    FeatureStore.IND_COUNT: int,\n",
    "    FeatureStore.AMT_PAID: float,\n",
    "    FeatureStore.NUM_FRAUDS_COMMUNITY: int,\n",
    "    FeatureStore.POL_PREMIUM: \"category\",\n",
    "    FeatureStore.NUM_FRAUDS_NEIGHBORHOOD: int,\n",
    "    FeatureStore.INFLUENCE: float,\n",
    "})\n",
    "\n",
    "# If feature is categorical, encode them in one-hot encoding scheme\n",
    "dummies = pd.get_dummies(X[FeatureStore.POL_PREMIUM], prefix=FeatureStore.POL_PREMIUM)\n",
    "X = X.join(dummies)\n",
    "X = X.drop(columns=[FeatureStore.POL_PREMIUM])\n",
    "y = feature_store[FeatureStore.FRAUD]\n",
    "y = y.astype({\n",
    "    FeatureStore.FRAUD: bool,\n",
    "})\n",
    "feature_columns = X.columns\n",
    "\n",
    "# Split the dataset into training and testing\n",
    "# NOTE: In real-life scenario, this split will be time-dependent\n",
    "X_train,X_test,y_train,y_test = train_test_split(X,y,test_size=0.3,random_state=0)\n",
    "\n",
    "# Upsample the minority class data\n",
    "train_data = pd.concat((X_train, y_train), axis=1)\n",
    "X_positive = train_data[train_data[FeatureStore.FRAUD] == True]\n",
    "X_negative = train_data[train_data[FeatureStore.FRAUD] == False]\n",
    "\n",
    "X_positive = resample(X_positive, \n",
    "                      replace=True,    \n",
    "                      n_samples=len(X_negative) // 2)\n",
    "train_data = pd.concat((X_positive, X_negative), axis=0)\n",
    "\n",
    "y_train = train_data[FeatureStore.FRAUD]\n",
    "X_train = train_data.drop(columns=[FeatureStore.FRAUD])\n",
    "\n",
    "# Fit the simplest logistic regression model by using scikit-learn \n",
    "logistic_regression= LogisticRegression()\n",
    "logistic_regression.fit(X_train,y_train)\n",
    "y_pred=logistic_regression.predict(X_test)\n",
    "\n",
    "# Draw a confusion matrix and discuss the results. Here, the results are\n",
    "# correlated to the dataset which is not highly accurate.\n",
    "confusion_matrix = pd.crosstab(y_test, y_pred, rownames=['Actual'], colnames=['Predicted'])\n",
    "sn.heatmap(\n",
    "    confusion_matrix, \n",
    "    annot=True,\n",
    "    fmt='g',\n",
    "    cmap='Blues'\n",
    ")"
   ]
  },
  {
   "cell_type": "code",
   "execution_count": 27,
   "id": "2e8b9108",
   "metadata": {},
   "outputs": [],
   "source": [
    "# To enable faster processing, Memgraph offers a dynamic analytics. Once data is inserted, analytics\n",
    "# is calculated on the fly. To set it, we create triggers.\n",
    "\n",
    "def create_community_detection_trigger():\n",
    "    db.execute(\"\"\"\n",
    "        CREATE TRIGGER community_detection_online_trigger BEFORE COMMIT\n",
    "        EXECUTE CALL community_detection_online.update(createdVertices, createdEdges, updatedVertices, updatedEdges, deletedVertices, deletedEdges) YIELD node, community_id\n",
    "        SET node.community = community_id;\n",
    "    \"\"\")\n",
    "\n",
    "def create_influence_trigger():\n",
    "    db.execute(\"\"\"\n",
    "        CREATE TRIGGER influence_trigger BEFORE COMMIT\n",
    "        EXECUTE CALL pagerank_online.update(createdVertices, createdEdges, deletedVertices, deletedEdges) YIELD *\n",
    "        SET node.influence = rank;\n",
    "    \"\"\")\n",
    "    \n",
    "create_community_detection_trigger()\n",
    "create_influence_trigger()"
   ]
  },
  {
   "cell_type": "code",
   "execution_count": 28,
   "id": "93420c4f",
   "metadata": {},
   "outputs": [],
   "source": [
    "# Now let's create another item in the database\n",
    "# We'll simulate how items are inserted into SQL DB\n",
    "\n",
    "NEW_CLAIM_ID = 'bc7462cb'\n",
    "\n",
    "INCIDENT_ID = 'bf418431'\n",
    "ADDRESS_ID = '4700feb8'\n",
    "POLICY_ID = 'b74bf655'\n",
    "CLAIM2_ID = 'e93ffa1a'\n",
    "INJURY_ID = 'abde1883'\n",
    "INDIVIDUAL_ID = '7324cb18'\n",
    "PAYMENT_ID = 'bd384ce3'\n",
    "PAYEE_ID = '35d27b82'\n",
    "\n",
    "# Create INCIDENT in table\n",
    "def create_incident(incident_id, policy_id, address_id):\n",
    "    date = str(datetime.now())\n",
    "    db.execute(f\"\"\"\n",
    "    CREATE (:INCIDENT {{\n",
    "        accident_date: \"{date}\",\n",
    "        add_id: \"{address_id}\",\n",
    "        file_date: \"{date}\",\n",
    "        inc_id: \"{incident_id}\",\n",
    "        pol_id: \"{policy_id}\" \n",
    "    }});\n",
    "    \"\"\")\n",
    "\n",
    "def create_incident_individual(incident_id, individual_id):\n",
    "    db.execute(f\"\"\"\n",
    "    MATCH (a:INCIDENT {{inc_id: \"{incident_id}\"}}) \n",
    "    MATCH (b:INDIVIDUAL {{ind_id: \"{individual_id}\"}})\n",
    "    CREATE (a)-[:INCIDENT]->(b);\n",
    "    \"\"\")\n",
    "\n",
    "# Create claims\n",
    "def create_claim(claim_id, incident_id, amount):\n",
    "    db.execute(f\"\"\"\n",
    "    CREATE (:CLAIM {{\n",
    "            clm_id: \"{claim_id}\",\n",
    "            inc_id: \"{incident_id}\",\n",
    "            amount: \"{amount}\"\n",
    "    }});\n",
    "    \"\"\")\n",
    "\n",
    "# Create injuries\n",
    "def create_injury(injury_id, injury_type, claim_id, individual_id):\n",
    "    db.execute(f\"\"\"\n",
    "    CREATE (:INJURY {{\n",
    "            clm_id: \"{claim_id}\",\n",
    "            ind_id: \"\",\n",
    "            inj_id: \"{injury_id}\",\n",
    "            type: \"{injury_type}\"\n",
    "    }});\n",
    "    \"\"\")\n",
    "\n",
    "# Create payment\n",
    "def create_payment(payment_id, amount, claim_id, payer_id, payee_id):\n",
    "    db.execute(f\"\"\"\n",
    "    CREATE (:CLAIM_PAYMENT {{\n",
    "        amount: {amount},\n",
    "        clm_id: \"{claim_id}\",\n",
    "        pay_id: \"{payment_id}\",\n",
    "        payee_id: \"{payee_id}\",\n",
    "        payer_id: \"{payer_id}\"\n",
    "    }});\n",
    "    \"\"\")\n",
    "\n",
    "create_incident(INCIDENT_ID, POLICY_ID, ADDRESS_ID)\n",
    "create_incident_individual(INCIDENT_ID, INDIVIDUAL_ID)\n",
    "create_incident_individual(INCIDENT_ID, PAYEE_ID)\n",
    "\n",
    "create_claim(NEW_CLAIM_ID, INCIDENT_ID, 4313)\n",
    "create_claim(CLAIM2_ID, INCIDENT_ID, 2500)\n",
    "create_injury(INJURY_ID, \"Legs\", NEW_CLAIM_ID, INDIVIDUAL_ID)\n",
    "create_payment(PAYMENT_ID, 4300, NEW_CLAIM_ID, INDIVIDUAL_ID, PAYEE_ID)"
   ]
  },
  {
   "cell_type": "code",
   "execution_count": 29,
   "id": "1bd644c0",
   "metadata": {},
   "outputs": [
    {
     "name": "stdout",
     "output_type": "stream",
     "text": [
      "Index(['ind_count', 'amount_paid', 'num_frauds_community',\n",
      "       'num_frauds_neighborhood', 'influence', 'policy_premium_A',\n",
      "       'policy_premium_B', 'policy_premium_C', 'policy_premium_D',\n",
      "       'policy_premium_U'],\n",
      "      dtype='object')\n",
      "bc7462cb\n",
      "Claim bc7462cb fraud prediction: [False]\n"
     ]
    },
    {
     "data": {
      "text/html": [
       "<div>\n",
       "<style scoped>\n",
       "    .dataframe tbody tr th:only-of-type {\n",
       "        vertical-align: middle;\n",
       "    }\n",
       "\n",
       "    .dataframe tbody tr th {\n",
       "        vertical-align: top;\n",
       "    }\n",
       "\n",
       "    .dataframe thead th {\n",
       "        text-align: right;\n",
       "    }\n",
       "</style>\n",
       "<table border=\"1\" class=\"dataframe\">\n",
       "  <thead>\n",
       "    <tr style=\"text-align: right;\">\n",
       "      <th></th>\n",
       "      <th>ind_count</th>\n",
       "      <th>amount_paid</th>\n",
       "      <th>num_frauds_community</th>\n",
       "      <th>num_frauds_neighborhood</th>\n",
       "      <th>influence</th>\n",
       "      <th>policy_premium_A</th>\n",
       "      <th>policy_premium_B</th>\n",
       "      <th>policy_premium_C</th>\n",
       "      <th>policy_premium_D</th>\n",
       "      <th>policy_premium_U</th>\n",
       "    </tr>\n",
       "  </thead>\n",
       "  <tbody>\n",
       "    <tr>\n",
       "      <th>bc7462cb</th>\n",
       "      <td>0</td>\n",
       "      <td>4300.0</td>\n",
       "      <td>0</td>\n",
       "      <td>0</td>\n",
       "      <td>0.000172</td>\n",
       "      <td>0</td>\n",
       "      <td>0</td>\n",
       "      <td>0</td>\n",
       "      <td>0</td>\n",
       "      <td>0</td>\n",
       "    </tr>\n",
       "  </tbody>\n",
       "</table>\n",
       "</div>"
      ],
      "text/plain": [
       "          ind_count  amount_paid  num_frauds_community  \\\n",
       "bc7462cb          0       4300.0                     0   \n",
       "\n",
       "          num_frauds_neighborhood  influence  policy_premium_A  \\\n",
       "bc7462cb                        0   0.000172                 0   \n",
       "\n",
       "          policy_premium_B  policy_premium_C  policy_premium_D  \\\n",
       "bc7462cb                 0                 0                 0   \n",
       "\n",
       "          policy_premium_U  \n",
       "bc7462cb                 0  "
      ]
     },
     "execution_count": 29,
     "metadata": {},
     "output_type": "execute_result"
    }
   ],
   "source": [
    "def extract_features(clm_id, columns):\n",
    "    X = pd.DataFrame({\n",
    "        FeatureStore.IND_COUNT: get_individual_count(clm_id),\n",
    "        FeatureStore.AMT_PAID: get_amount_paid(clm_id),\n",
    "        FeatureStore.NUM_FRAUDS_COMMUNITY: get_num_frauds_community(clm_id),\n",
    "        FeatureStore.NUM_FRAUDS_NEIGHBORHOOD: get_num_frauds_neighborhood(clm_id),\n",
    "        FeatureStore.INFLUENCE: get_influence(clm_id),\n",
    "    }, index=[clm_id])\n",
    "    # Selecting the feature type. \n",
    "    X = X.astype({\n",
    "        FeatureStore.IND_COUNT: int,\n",
    "        FeatureStore.AMT_PAID: float,\n",
    "        FeatureStore.NUM_FRAUDS_COMMUNITY: int,\n",
    "        FeatureStore.NUM_FRAUDS_NEIGHBORHOOD: int,\n",
    "        FeatureStore.INFLUENCE: float,\n",
    "    })\n",
    "    X = pd.get_dummies(X)\n",
    "    X = X.reindex(columns = columns, fill_value=0)\n",
    "    return X\n",
    "\n",
    "print(feature_columns)\n",
    "print(NEW_CLAIM_ID)\n",
    "new_features = extract_features(NEW_CLAIM_ID, feature_columns)\n",
    "y_pred=logistic_regression.predict(new_features)\n",
    "print(f\"Claim {NEW_CLAIM_ID} fraud prediction: {y_pred}\")\n",
    "new_features"
   ]
  }
 ],
 "metadata": {
  "kernelspec": {
   "display_name": "Python 3 (ipykernel)",
   "language": "python",
   "name": "python3"
  },
  "language_info": {
   "codemirror_mode": {
    "name": "ipython",
    "version": 3
   },
   "file_extension": ".py",
   "mimetype": "text/x-python",
   "name": "python",
   "nbconvert_exporter": "python",
   "pygments_lexer": "ipython3",
   "version": "3.9.13"
  },
  "vscode": {
   "interpreter": {
    "hash": "916dbcbb3f70747c44a77c7bcd40155683ae19c65e1c03b4aa3499c5328201f1"
   }
  }
 },
 "nbformat": 4,
 "nbformat_minor": 5
}
